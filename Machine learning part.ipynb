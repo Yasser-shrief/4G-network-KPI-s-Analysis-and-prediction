{
 "cells": [
  {
   "cell_type": "markdown",
   "metadata": {},
   "source": [
    "# Machine learning Part"
   ]
  },
  {
   "cell_type": "markdown",
   "metadata": {},
   "source": [
    "#### Read samples data in new dataframes"
   ]
  },
  {
   "cell_type": "code",
   "execution_count": 55,
   "metadata": {
    "execution": {
     "iopub.execute_input": "2021-07-25T04:04:14.345574Z",
     "iopub.status.busy": "2021-07-25T04:04:14.345207Z",
     "iopub.status.idle": "2021-07-25T04:04:14.351841Z",
     "shell.execute_reply": "2021-07-25T04:04:14.350674Z",
     "shell.execute_reply.started": "2021-07-25T04:04:14.345523Z"
    }
   },
   "outputs": [],
   "source": [
    "import pandas as pd \n",
    "import numpy as np\n",
    "import seaborn as sns\n",
    "from datetime import datetime\n",
    "import matplotlib.pyplot as plt\n",
    "%matplotlib inline"
   ]
  },
  {
   "cell_type": "code",
   "execution_count": 56,
   "metadata": {
    "execution": {
     "iopub.execute_input": "2021-07-25T04:04:14.497890Z",
     "iopub.status.busy": "2021-07-25T04:04:14.497641Z",
     "iopub.status.idle": "2021-07-25T04:04:14.537446Z",
     "shell.execute_reply": "2021-07-25T04:04:14.536717Z",
     "shell.execute_reply.started": "2021-07-25T04:04:14.497865Z"
    }
   },
   "outputs": [],
   "source": [
    "samp_rsrp = pd.read_csv('../input/samples-data/sample_rsrp.csv')\n",
    "samp_traf = pd.read_csv('../input/samples-data/sample_traf.csv')"
   ]
  },
  {
   "cell_type": "markdown",
   "metadata": {},
   "source": [
    "Merge two dataframes"
   ]
  },
  {
   "cell_type": "code",
   "execution_count": 57,
   "metadata": {
    "execution": {
     "iopub.execute_input": "2021-07-25T04:04:14.799184Z",
     "iopub.status.busy": "2021-07-25T04:04:14.798860Z",
     "iopub.status.idle": "2021-07-25T04:04:14.827688Z",
     "shell.execute_reply": "2021-07-25T04:04:14.826868Z",
     "shell.execute_reply.started": "2021-07-25T04:04:14.799154Z"
    }
   },
   "outputs": [],
   "source": [
    "new1 = pd.merge(samp_rsrp, samp_traf, how=\"inner\", on=[\"LocationLatitude\",'LocationLongitude','RadioOperatorName'])"
   ]
  },
  {
   "cell_type": "markdown",
   "metadata": {},
   "source": [
    "Drop useless columns"
   ]
  },
  {
   "cell_type": "code",
   "execution_count": 58,
   "metadata": {
    "execution": {
     "iopub.execute_input": "2021-07-25T04:04:15.047705Z",
     "iopub.status.busy": "2021-07-25T04:04:15.047188Z",
     "iopub.status.idle": "2021-07-25T04:04:15.060765Z",
     "shell.execute_reply": "2021-07-25T04:04:15.058909Z",
     "shell.execute_reply.started": "2021-07-25T04:04:15.047659Z"
    }
   },
   "outputs": [],
   "source": [
    "new1.drop([\"Unnamed: 0_x\",'Unnamed: 0_y','RadioConnectionType_x','RadioConnectionType_y','Country_x',\n",
    "           'Country_y','RadioMobileDataEnabled_x','RadioMobileDataEnabled_y','polygon','polygon3_y'], axis=1, inplace=True)"
   ]
  },
  {
   "cell_type": "code",
   "execution_count": 59,
   "metadata": {
    "execution": {
     "iopub.execute_input": "2021-07-25T04:04:15.182686Z",
     "iopub.status.busy": "2021-07-25T04:04:15.182342Z",
     "iopub.status.idle": "2021-07-25T04:04:15.215518Z",
     "shell.execute_reply": "2021-07-25T04:04:15.214543Z",
     "shell.execute_reply.started": "2021-07-25T04:04:15.182650Z"
    }
   },
   "outputs": [
    {
     "data": {
      "text/html": [
       "<div>\n",
       "<style scoped>\n",
       "    .dataframe tbody tr th:only-of-type {\n",
       "        vertical-align: middle;\n",
       "    }\n",
       "\n",
       "    .dataframe tbody tr th {\n",
       "        vertical-align: top;\n",
       "    }\n",
       "\n",
       "    .dataframe thead th {\n",
       "        text-align: right;\n",
       "    }\n",
       "</style>\n",
       "<table border=\"1\" class=\"dataframe\">\n",
       "  <thead>\n",
       "    <tr style=\"text-align: right;\">\n",
       "      <th></th>\n",
       "      <th>Timestamp_x</th>\n",
       "      <th>LocationLatitude</th>\n",
       "      <th>LocationLongitude</th>\n",
       "      <th>RadioNetworkGeneration_x</th>\n",
       "      <th>RadioOperatorName</th>\n",
       "      <th>RSRP</th>\n",
       "      <th>DeviceManufacturer</th>\n",
       "      <th>DeviceName</th>\n",
       "      <th>datehour_x</th>\n",
       "      <th>geometry_x</th>\n",
       "      <th>polygon3_x</th>\n",
       "      <th>Timestamp_y</th>\n",
       "      <th>RadioNetworkGeneration_y</th>\n",
       "      <th>TrafficDirection</th>\n",
       "      <th>TrafficVolume</th>\n",
       "      <th>datehour_y</th>\n",
       "      <th>geometry_y</th>\n",
       "    </tr>\n",
       "  </thead>\n",
       "  <tbody>\n",
       "    <tr>\n",
       "      <th>0</th>\n",
       "      <td>2019-11-02 08:58:45.298000+00:00</td>\n",
       "      <td>24.864525</td>\n",
       "      <td>46.587463</td>\n",
       "      <td>4G</td>\n",
       "      <td>Operator A</td>\n",
       "      <td>-112</td>\n",
       "      <td>samsung</td>\n",
       "      <td>Galaxy A20S</td>\n",
       "      <td>8</td>\n",
       "      <td>POINT (46.587463 24.864525)</td>\n",
       "      <td>True</td>\n",
       "      <td>2019-11-02 08:45:00+00:00</td>\n",
       "      <td>4G</td>\n",
       "      <td>Uplink</td>\n",
       "      <td>0.044431</td>\n",
       "      <td>8.0</td>\n",
       "      <td>POINT (46.587463 24.864525)</td>\n",
       "    </tr>\n",
       "    <tr>\n",
       "      <th>1</th>\n",
       "      <td>2019-11-02 08:58:45.298000+00:00</td>\n",
       "      <td>24.864525</td>\n",
       "      <td>46.587463</td>\n",
       "      <td>4G</td>\n",
       "      <td>Operator A</td>\n",
       "      <td>-112</td>\n",
       "      <td>samsung</td>\n",
       "      <td>Galaxy A20S</td>\n",
       "      <td>8</td>\n",
       "      <td>POINT (46.587463 24.864525)</td>\n",
       "      <td>True</td>\n",
       "      <td>2019-11-02 08:45:00+00:00</td>\n",
       "      <td>4G</td>\n",
       "      <td>Downlink</td>\n",
       "      <td>0.082570</td>\n",
       "      <td>8.0</td>\n",
       "      <td>POINT (46.587463 24.864525)</td>\n",
       "    </tr>\n",
       "    <tr>\n",
       "      <th>2</th>\n",
       "      <td>2019-11-02 08:58:43.536000+00:00</td>\n",
       "      <td>24.864525</td>\n",
       "      <td>46.587463</td>\n",
       "      <td>4G</td>\n",
       "      <td>Operator A</td>\n",
       "      <td>-111</td>\n",
       "      <td>samsung</td>\n",
       "      <td>Galaxy A20S</td>\n",
       "      <td>8</td>\n",
       "      <td>POINT (46.587463 24.864525)</td>\n",
       "      <td>True</td>\n",
       "      <td>2019-11-02 08:45:00+00:00</td>\n",
       "      <td>4G</td>\n",
       "      <td>Uplink</td>\n",
       "      <td>0.044431</td>\n",
       "      <td>8.0</td>\n",
       "      <td>POINT (46.587463 24.864525)</td>\n",
       "    </tr>\n",
       "    <tr>\n",
       "      <th>3</th>\n",
       "      <td>2019-11-02 08:58:43.536000+00:00</td>\n",
       "      <td>24.864525</td>\n",
       "      <td>46.587463</td>\n",
       "      <td>4G</td>\n",
       "      <td>Operator A</td>\n",
       "      <td>-111</td>\n",
       "      <td>samsung</td>\n",
       "      <td>Galaxy A20S</td>\n",
       "      <td>8</td>\n",
       "      <td>POINT (46.587463 24.864525)</td>\n",
       "      <td>True</td>\n",
       "      <td>2019-11-02 08:45:00+00:00</td>\n",
       "      <td>4G</td>\n",
       "      <td>Downlink</td>\n",
       "      <td>0.082570</td>\n",
       "      <td>8.0</td>\n",
       "      <td>POINT (46.587463 24.864525)</td>\n",
       "    </tr>\n",
       "    <tr>\n",
       "      <th>4</th>\n",
       "      <td>2019-11-02 08:58:35.347000+00:00</td>\n",
       "      <td>24.864525</td>\n",
       "      <td>46.587463</td>\n",
       "      <td>4G</td>\n",
       "      <td>Operator A</td>\n",
       "      <td>-110</td>\n",
       "      <td>samsung</td>\n",
       "      <td>Galaxy A20S</td>\n",
       "      <td>8</td>\n",
       "      <td>POINT (46.587463 24.864525)</td>\n",
       "      <td>True</td>\n",
       "      <td>2019-11-02 08:45:00+00:00</td>\n",
       "      <td>4G</td>\n",
       "      <td>Uplink</td>\n",
       "      <td>0.044431</td>\n",
       "      <td>8.0</td>\n",
       "      <td>POINT (46.587463 24.864525)</td>\n",
       "    </tr>\n",
       "  </tbody>\n",
       "</table>\n",
       "</div>"
      ],
      "text/plain": [
       "                        Timestamp_x  LocationLatitude  LocationLongitude  \\\n",
       "0  2019-11-02 08:58:45.298000+00:00         24.864525          46.587463   \n",
       "1  2019-11-02 08:58:45.298000+00:00         24.864525          46.587463   \n",
       "2  2019-11-02 08:58:43.536000+00:00         24.864525          46.587463   \n",
       "3  2019-11-02 08:58:43.536000+00:00         24.864525          46.587463   \n",
       "4  2019-11-02 08:58:35.347000+00:00         24.864525          46.587463   \n",
       "\n",
       "  RadioNetworkGeneration_x RadioOperatorName  RSRP DeviceManufacturer  \\\n",
       "0                       4G        Operator A  -112            samsung   \n",
       "1                       4G        Operator A  -112            samsung   \n",
       "2                       4G        Operator A  -111            samsung   \n",
       "3                       4G        Operator A  -111            samsung   \n",
       "4                       4G        Operator A  -110            samsung   \n",
       "\n",
       "    DeviceName  datehour_x                   geometry_x  polygon3_x  \\\n",
       "0  Galaxy A20S           8  POINT (46.587463 24.864525)        True   \n",
       "1  Galaxy A20S           8  POINT (46.587463 24.864525)        True   \n",
       "2  Galaxy A20S           8  POINT (46.587463 24.864525)        True   \n",
       "3  Galaxy A20S           8  POINT (46.587463 24.864525)        True   \n",
       "4  Galaxy A20S           8  POINT (46.587463 24.864525)        True   \n",
       "\n",
       "                 Timestamp_y RadioNetworkGeneration_y TrafficDirection  \\\n",
       "0  2019-11-02 08:45:00+00:00                       4G           Uplink   \n",
       "1  2019-11-02 08:45:00+00:00                       4G         Downlink   \n",
       "2  2019-11-02 08:45:00+00:00                       4G           Uplink   \n",
       "3  2019-11-02 08:45:00+00:00                       4G         Downlink   \n",
       "4  2019-11-02 08:45:00+00:00                       4G           Uplink   \n",
       "\n",
       "   TrafficVolume  datehour_y                   geometry_y  \n",
       "0       0.044431         8.0  POINT (46.587463 24.864525)  \n",
       "1       0.082570         8.0  POINT (46.587463 24.864525)  \n",
       "2       0.044431         8.0  POINT (46.587463 24.864525)  \n",
       "3       0.082570         8.0  POINT (46.587463 24.864525)  \n",
       "4       0.044431         8.0  POINT (46.587463 24.864525)  "
      ]
     },
     "metadata": {},
     "output_type": "display_data"
    },
    {
     "name": "stdout",
     "output_type": "stream",
     "text": [
      "(2582, 17)\n"
     ]
    }
   ],
   "source": [
    "display(new1.head())\n",
    "print(new1.shape)"
   ]
  },
  {
   "cell_type": "markdown",
   "metadata": {},
   "source": [
    "**Q1**:1. Assuming that the coverage next week will improve in that polygon compared to competition (i.e., RSRP will get better than other operators). What would be the impact on downlink and uplink **traffic volumes**?"
   ]
  },
  {
   "cell_type": "code",
   "execution_count": 60,
   "metadata": {
    "execution": {
     "iopub.execute_input": "2021-07-25T04:04:15.433107Z",
     "iopub.status.busy": "2021-07-25T04:04:15.432820Z",
     "iopub.status.idle": "2021-07-25T04:04:15.462432Z",
     "shell.execute_reply": "2021-07-25T04:04:15.461255Z",
     "shell.execute_reply.started": "2021-07-25T04:04:15.433082Z"
    }
   },
   "outputs": [
    {
     "data": {
      "text/html": [
       "<div>\n",
       "<style scoped>\n",
       "    .dataframe tbody tr th:only-of-type {\n",
       "        vertical-align: middle;\n",
       "    }\n",
       "\n",
       "    .dataframe tbody tr th {\n",
       "        vertical-align: top;\n",
       "    }\n",
       "\n",
       "    .dataframe thead th {\n",
       "        text-align: right;\n",
       "    }\n",
       "</style>\n",
       "<table border=\"1\" class=\"dataframe\">\n",
       "  <thead>\n",
       "    <tr style=\"text-align: right;\">\n",
       "      <th></th>\n",
       "      <th>Timestamp_x</th>\n",
       "      <th>LocationLatitude</th>\n",
       "      <th>LocationLongitude</th>\n",
       "      <th>RadioNetworkGeneration_x</th>\n",
       "      <th>RadioOperatorName</th>\n",
       "      <th>RSRP</th>\n",
       "      <th>DeviceManufacturer</th>\n",
       "      <th>DeviceName</th>\n",
       "      <th>datehour_x</th>\n",
       "      <th>geometry_x</th>\n",
       "      <th>polygon3_x</th>\n",
       "      <th>Timestamp_y</th>\n",
       "      <th>RadioNetworkGeneration_y</th>\n",
       "      <th>TrafficDirection</th>\n",
       "      <th>TrafficVolume</th>\n",
       "      <th>datehour_y</th>\n",
       "      <th>geometry_y</th>\n",
       "    </tr>\n",
       "  </thead>\n",
       "  <tbody>\n",
       "    <tr>\n",
       "      <th>11</th>\n",
       "      <td>2019-11-02 04:15:55.666000+00:00</td>\n",
       "      <td>24.899353</td>\n",
       "      <td>46.439205</td>\n",
       "      <td>4G</td>\n",
       "      <td>Operator C</td>\n",
       "      <td>2147483647</td>\n",
       "      <td>HMD Global</td>\n",
       "      <td>Nokia 3.2</td>\n",
       "      <td>4</td>\n",
       "      <td>POINT (46.439205 24.899353)</td>\n",
       "      <td>True</td>\n",
       "      <td>2019-11-02 09:15:00+00:00</td>\n",
       "      <td>2G</td>\n",
       "      <td>Uplink</td>\n",
       "      <td>0.166234</td>\n",
       "      <td>9.0</td>\n",
       "      <td>POINT (46.439205 24.899353)</td>\n",
       "    </tr>\n",
       "    <tr>\n",
       "      <th>12</th>\n",
       "      <td>2019-11-02 04:15:55.666000+00:00</td>\n",
       "      <td>24.899353</td>\n",
       "      <td>46.439205</td>\n",
       "      <td>4G</td>\n",
       "      <td>Operator C</td>\n",
       "      <td>2147483647</td>\n",
       "      <td>HMD Global</td>\n",
       "      <td>Nokia 3.2</td>\n",
       "      <td>4</td>\n",
       "      <td>POINT (46.439205 24.899353)</td>\n",
       "      <td>True</td>\n",
       "      <td>2019-11-02 09:15:00+00:00</td>\n",
       "      <td>4G</td>\n",
       "      <td>Uplink</td>\n",
       "      <td>2.430258</td>\n",
       "      <td>9.0</td>\n",
       "      <td>POINT (46.439205 24.899353)</td>\n",
       "    </tr>\n",
       "    <tr>\n",
       "      <th>13</th>\n",
       "      <td>2019-11-02 04:15:55.666000+00:00</td>\n",
       "      <td>24.899353</td>\n",
       "      <td>46.439205</td>\n",
       "      <td>4G</td>\n",
       "      <td>Operator C</td>\n",
       "      <td>2147483647</td>\n",
       "      <td>HMD Global</td>\n",
       "      <td>Nokia 3.2</td>\n",
       "      <td>4</td>\n",
       "      <td>POINT (46.439205 24.899353)</td>\n",
       "      <td>True</td>\n",
       "      <td>2019-11-02 09:00:00+00:00</td>\n",
       "      <td>2G</td>\n",
       "      <td>Downlink</td>\n",
       "      <td>0.704414</td>\n",
       "      <td>9.0</td>\n",
       "      <td>POINT (46.439205 24.899353)</td>\n",
       "    </tr>\n",
       "    <tr>\n",
       "      <th>14</th>\n",
       "      <td>2019-11-02 04:15:55.666000+00:00</td>\n",
       "      <td>24.899353</td>\n",
       "      <td>46.439205</td>\n",
       "      <td>4G</td>\n",
       "      <td>Operator C</td>\n",
       "      <td>2147483647</td>\n",
       "      <td>HMD Global</td>\n",
       "      <td>Nokia 3.2</td>\n",
       "      <td>4</td>\n",
       "      <td>POINT (46.439205 24.899353)</td>\n",
       "      <td>True</td>\n",
       "      <td>2019-11-02 09:15:00+00:00</td>\n",
       "      <td>3G</td>\n",
       "      <td>Downlink</td>\n",
       "      <td>0.235028</td>\n",
       "      <td>9.0</td>\n",
       "      <td>POINT (46.439205 24.899353)</td>\n",
       "    </tr>\n",
       "    <tr>\n",
       "      <th>15</th>\n",
       "      <td>2019-11-02 04:15:55.666000+00:00</td>\n",
       "      <td>24.899353</td>\n",
       "      <td>46.439205</td>\n",
       "      <td>4G</td>\n",
       "      <td>Operator C</td>\n",
       "      <td>2147483647</td>\n",
       "      <td>HMD Global</td>\n",
       "      <td>Nokia 3.2</td>\n",
       "      <td>4</td>\n",
       "      <td>POINT (46.439205 24.899353)</td>\n",
       "      <td>True</td>\n",
       "      <td>2019-11-02 09:00:00+00:00</td>\n",
       "      <td>2G</td>\n",
       "      <td>Uplink</td>\n",
       "      <td>0.377594</td>\n",
       "      <td>9.0</td>\n",
       "      <td>POINT (46.439205 24.899353)</td>\n",
       "    </tr>\n",
       "  </tbody>\n",
       "</table>\n",
       "</div>"
      ],
      "text/plain": [
       "                         Timestamp_x  LocationLatitude  LocationLongitude  \\\n",
       "11  2019-11-02 04:15:55.666000+00:00         24.899353          46.439205   \n",
       "12  2019-11-02 04:15:55.666000+00:00         24.899353          46.439205   \n",
       "13  2019-11-02 04:15:55.666000+00:00         24.899353          46.439205   \n",
       "14  2019-11-02 04:15:55.666000+00:00         24.899353          46.439205   \n",
       "15  2019-11-02 04:15:55.666000+00:00         24.899353          46.439205   \n",
       "\n",
       "   RadioNetworkGeneration_x RadioOperatorName        RSRP DeviceManufacturer  \\\n",
       "11                       4G        Operator C  2147483647         HMD Global   \n",
       "12                       4G        Operator C  2147483647         HMD Global   \n",
       "13                       4G        Operator C  2147483647         HMD Global   \n",
       "14                       4G        Operator C  2147483647         HMD Global   \n",
       "15                       4G        Operator C  2147483647         HMD Global   \n",
       "\n",
       "   DeviceName  datehour_x                   geometry_x  polygon3_x  \\\n",
       "11  Nokia 3.2           4  POINT (46.439205 24.899353)        True   \n",
       "12  Nokia 3.2           4  POINT (46.439205 24.899353)        True   \n",
       "13  Nokia 3.2           4  POINT (46.439205 24.899353)        True   \n",
       "14  Nokia 3.2           4  POINT (46.439205 24.899353)        True   \n",
       "15  Nokia 3.2           4  POINT (46.439205 24.899353)        True   \n",
       "\n",
       "                  Timestamp_y RadioNetworkGeneration_y TrafficDirection  \\\n",
       "11  2019-11-02 09:15:00+00:00                       2G           Uplink   \n",
       "12  2019-11-02 09:15:00+00:00                       4G           Uplink   \n",
       "13  2019-11-02 09:00:00+00:00                       2G         Downlink   \n",
       "14  2019-11-02 09:15:00+00:00                       3G         Downlink   \n",
       "15  2019-11-02 09:00:00+00:00                       2G           Uplink   \n",
       "\n",
       "    TrafficVolume  datehour_y                   geometry_y  \n",
       "11       0.166234         9.0  POINT (46.439205 24.899353)  \n",
       "12       2.430258         9.0  POINT (46.439205 24.899353)  \n",
       "13       0.704414         9.0  POINT (46.439205 24.899353)  \n",
       "14       0.235028         9.0  POINT (46.439205 24.899353)  \n",
       "15       0.377594         9.0  POINT (46.439205 24.899353)  "
      ]
     },
     "execution_count": 60,
     "metadata": {},
     "output_type": "execute_result"
    }
   ],
   "source": [
    "operatorC = new1[new1['RadioOperatorName']=='Operator C']\n",
    "operatorC.head()"
   ]
  },
  {
   "cell_type": "code",
   "execution_count": 61,
   "metadata": {
    "execution": {
     "iopub.execute_input": "2021-07-25T04:04:15.716941Z",
     "iopub.status.busy": "2021-07-25T04:04:15.716685Z",
     "iopub.status.idle": "2021-07-25T04:04:15.965473Z",
     "shell.execute_reply": "2021-07-25T04:04:15.964746Z",
     "shell.execute_reply.started": "2021-07-25T04:04:15.716913Z"
    }
   },
   "outputs": [
    {
     "data": {
      "text/plain": [
       "<AxesSubplot:xlabel='TrafficVolume', ylabel='RSRP'>"
      ]
     },
     "execution_count": 61,
     "metadata": {},
     "output_type": "execute_result"
    },
    {
     "data": {
      "image/png": "[encoded data removed]",
      "text/plain": [
       "<Figure size 432x288 with 1 Axes>"
      ]
     },
     "metadata": {
      "needs_background": "light"
     },
     "output_type": "display_data"
    }
   ],
   "source": [
    "\n",
    "sns.scatterplot(data= operatorC, x='TrafficVolume', y='RSRP')"
   ]
  },
  {
   "cell_type": "markdown",
   "metadata": {},
   "source": [
    "No effect on traffic volume."
   ]
  },
  {
   "cell_type": "markdown",
   "metadata": {},
   "source": [
    "**Q2** :`Samsung devices` are the main handsets in our network. Can you predict the `traffic volume` growth, uplink and downlink, over time for these devices and compare it to the competitors?"
   ]
  },
  {
   "cell_type": "code",
   "execution_count": 62,
   "metadata": {
    "execution": {
     "iopub.execute_input": "2021-07-25T04:04:16.064743Z",
     "iopub.status.busy": "2021-07-25T04:04:16.064442Z",
     "iopub.status.idle": "2021-07-25T04:04:16.090180Z",
     "shell.execute_reply": "2021-07-25T04:04:16.088915Z",
     "shell.execute_reply.started": "2021-07-25T04:04:16.064717Z"
    }
   },
   "outputs": [
    {
     "data": {
      "text/html": [
       "<div>\n",
       "<style scoped>\n",
       "    .dataframe tbody tr th:only-of-type {\n",
       "        vertical-align: middle;\n",
       "    }\n",
       "\n",
       "    .dataframe tbody tr th {\n",
       "        vertical-align: top;\n",
       "    }\n",
       "\n",
       "    .dataframe thead th {\n",
       "        text-align: right;\n",
       "    }\n",
       "</style>\n",
       "<table border=\"1\" class=\"dataframe\">\n",
       "  <thead>\n",
       "    <tr style=\"text-align: right;\">\n",
       "      <th></th>\n",
       "      <th>Timestamp_x</th>\n",
       "      <th>LocationLatitude</th>\n",
       "      <th>LocationLongitude</th>\n",
       "      <th>RadioNetworkGeneration_x</th>\n",
       "      <th>RadioOperatorName</th>\n",
       "      <th>RSRP</th>\n",
       "      <th>DeviceManufacturer</th>\n",
       "      <th>DeviceName</th>\n",
       "      <th>datehour_x</th>\n",
       "      <th>geometry_x</th>\n",
       "      <th>polygon3_x</th>\n",
       "      <th>Timestamp_y</th>\n",
       "      <th>RadioNetworkGeneration_y</th>\n",
       "      <th>TrafficDirection</th>\n",
       "      <th>TrafficVolume</th>\n",
       "      <th>datehour_y</th>\n",
       "      <th>geometry_y</th>\n",
       "    </tr>\n",
       "  </thead>\n",
       "  <tbody>\n",
       "    <tr>\n",
       "      <th>0</th>\n",
       "      <td>2019-11-02 08:58:45.298000+00:00</td>\n",
       "      <td>24.864525</td>\n",
       "      <td>46.587463</td>\n",
       "      <td>4G</td>\n",
       "      <td>Operator A</td>\n",
       "      <td>-112</td>\n",
       "      <td>samsung</td>\n",
       "      <td>Galaxy A20S</td>\n",
       "      <td>8</td>\n",
       "      <td>POINT (46.587463 24.864525)</td>\n",
       "      <td>True</td>\n",
       "      <td>2019-11-02 08:45:00+00:00</td>\n",
       "      <td>4G</td>\n",
       "      <td>Uplink</td>\n",
       "      <td>0.044431</td>\n",
       "      <td>8.0</td>\n",
       "      <td>POINT (46.587463 24.864525)</td>\n",
       "    </tr>\n",
       "    <tr>\n",
       "      <th>1</th>\n",
       "      <td>2019-11-02 08:58:45.298000+00:00</td>\n",
       "      <td>24.864525</td>\n",
       "      <td>46.587463</td>\n",
       "      <td>4G</td>\n",
       "      <td>Operator A</td>\n",
       "      <td>-112</td>\n",
       "      <td>samsung</td>\n",
       "      <td>Galaxy A20S</td>\n",
       "      <td>8</td>\n",
       "      <td>POINT (46.587463 24.864525)</td>\n",
       "      <td>True</td>\n",
       "      <td>2019-11-02 08:45:00+00:00</td>\n",
       "      <td>4G</td>\n",
       "      <td>Downlink</td>\n",
       "      <td>0.082570</td>\n",
       "      <td>8.0</td>\n",
       "      <td>POINT (46.587463 24.864525)</td>\n",
       "    </tr>\n",
       "    <tr>\n",
       "      <th>2</th>\n",
       "      <td>2019-11-02 08:58:43.536000+00:00</td>\n",
       "      <td>24.864525</td>\n",
       "      <td>46.587463</td>\n",
       "      <td>4G</td>\n",
       "      <td>Operator A</td>\n",
       "      <td>-111</td>\n",
       "      <td>samsung</td>\n",
       "      <td>Galaxy A20S</td>\n",
       "      <td>8</td>\n",
       "      <td>POINT (46.587463 24.864525)</td>\n",
       "      <td>True</td>\n",
       "      <td>2019-11-02 08:45:00+00:00</td>\n",
       "      <td>4G</td>\n",
       "      <td>Uplink</td>\n",
       "      <td>0.044431</td>\n",
       "      <td>8.0</td>\n",
       "      <td>POINT (46.587463 24.864525)</td>\n",
       "    </tr>\n",
       "    <tr>\n",
       "      <th>3</th>\n",
       "      <td>2019-11-02 08:58:43.536000+00:00</td>\n",
       "      <td>24.864525</td>\n",
       "      <td>46.587463</td>\n",
       "      <td>4G</td>\n",
       "      <td>Operator A</td>\n",
       "      <td>-111</td>\n",
       "      <td>samsung</td>\n",
       "      <td>Galaxy A20S</td>\n",
       "      <td>8</td>\n",
       "      <td>POINT (46.587463 24.864525)</td>\n",
       "      <td>True</td>\n",
       "      <td>2019-11-02 08:45:00+00:00</td>\n",
       "      <td>4G</td>\n",
       "      <td>Downlink</td>\n",
       "      <td>0.082570</td>\n",
       "      <td>8.0</td>\n",
       "      <td>POINT (46.587463 24.864525)</td>\n",
       "    </tr>\n",
       "    <tr>\n",
       "      <th>4</th>\n",
       "      <td>2019-11-02 08:58:35.347000+00:00</td>\n",
       "      <td>24.864525</td>\n",
       "      <td>46.587463</td>\n",
       "      <td>4G</td>\n",
       "      <td>Operator A</td>\n",
       "      <td>-110</td>\n",
       "      <td>samsung</td>\n",
       "      <td>Galaxy A20S</td>\n",
       "      <td>8</td>\n",
       "      <td>POINT (46.587463 24.864525)</td>\n",
       "      <td>True</td>\n",
       "      <td>2019-11-02 08:45:00+00:00</td>\n",
       "      <td>4G</td>\n",
       "      <td>Uplink</td>\n",
       "      <td>0.044431</td>\n",
       "      <td>8.0</td>\n",
       "      <td>POINT (46.587463 24.864525)</td>\n",
       "    </tr>\n",
       "  </tbody>\n",
       "</table>\n",
       "</div>"
      ],
      "text/plain": [
       "                        Timestamp_x  LocationLatitude  LocationLongitude  \\\n",
       "0  2019-11-02 08:58:45.298000+00:00         24.864525          46.587463   \n",
       "1  2019-11-02 08:58:45.298000+00:00         24.864525          46.587463   \n",
       "2  2019-11-02 08:58:43.536000+00:00         24.864525          46.587463   \n",
       "3  2019-11-02 08:58:43.536000+00:00         24.864525          46.587463   \n",
       "4  2019-11-02 08:58:35.347000+00:00         24.864525          46.587463   \n",
       "\n",
       "  RadioNetworkGeneration_x RadioOperatorName  RSRP DeviceManufacturer  \\\n",
       "0                       4G        Operator A  -112            samsung   \n",
       "1                       4G        Operator A  -112            samsung   \n",
       "2                       4G        Operator A  -111            samsung   \n",
       "3                       4G        Operator A  -111            samsung   \n",
       "4                       4G        Operator A  -110            samsung   \n",
       "\n",
       "    DeviceName  datehour_x                   geometry_x  polygon3_x  \\\n",
       "0  Galaxy A20S           8  POINT (46.587463 24.864525)        True   \n",
       "1  Galaxy A20S           8  POINT (46.587463 24.864525)        True   \n",
       "2  Galaxy A20S           8  POINT (46.587463 24.864525)        True   \n",
       "3  Galaxy A20S           8  POINT (46.587463 24.864525)        True   \n",
       "4  Galaxy A20S           8  POINT (46.587463 24.864525)        True   \n",
       "\n",
       "                 Timestamp_y RadioNetworkGeneration_y TrafficDirection  \\\n",
       "0  2019-11-02 08:45:00+00:00                       4G           Uplink   \n",
       "1  2019-11-02 08:45:00+00:00                       4G         Downlink   \n",
       "2  2019-11-02 08:45:00+00:00                       4G           Uplink   \n",
       "3  2019-11-02 08:45:00+00:00                       4G         Downlink   \n",
       "4  2019-11-02 08:45:00+00:00                       4G           Uplink   \n",
       "\n",
       "   TrafficVolume  datehour_y                   geometry_y  \n",
       "0       0.044431         8.0  POINT (46.587463 24.864525)  \n",
       "1       0.082570         8.0  POINT (46.587463 24.864525)  \n",
       "2       0.044431         8.0  POINT (46.587463 24.864525)  \n",
       "3       0.082570         8.0  POINT (46.587463 24.864525)  \n",
       "4       0.044431         8.0  POINT (46.587463 24.864525)  "
      ]
     },
     "execution_count": 62,
     "metadata": {},
     "output_type": "execute_result"
    }
   ],
   "source": [
    "Samsung = new1[new1['DeviceManufacturer']=='samsung']\n",
    "Samsung.head()"
   ]
  },
  {
   "cell_type": "markdown",
   "metadata": {},
   "source": [
    "### Prepare our Data for Machine Learning Algorithms"
   ]
  },
  {
   "cell_type": "markdown",
   "metadata": {},
   "source": [
    "#### 1-extract `day of week` columns from timestamp"
   ]
  },
  {
   "cell_type": "code",
   "execution_count": 63,
   "metadata": {
    "execution": {
     "iopub.execute_input": "2021-07-25T04:04:16.839236Z",
     "iopub.status.busy": "2021-07-25T04:04:16.838876Z",
     "iopub.status.idle": "2021-07-25T04:04:16.850899Z",
     "shell.execute_reply": "2021-07-25T04:04:16.849730Z",
     "shell.execute_reply.started": "2021-07-25T04:04:16.839206Z"
    }
   },
   "outputs": [
    {
     "name": "stderr",
     "output_type": "stream",
     "text": [
      "/opt/conda/lib/python3.7/site-packages/ipykernel_launcher.py:1: SettingWithCopyWarning: \n",
      "A value is trying to be set on a copy of a slice from a DataFrame.\n",
      "Try using .loc[row_indexer,col_indexer] = value instead\n",
      "\n",
      "See the caveats in the documentation: https://pandas.pydata.org/pandas-docs/stable/user_guide/indexing.html#returning-a-view-versus-a-copy\n",
      "  \"\"\"Entry point for launching an IPython kernel.\n",
      "/opt/conda/lib/python3.7/site-packages/ipykernel_launcher.py:2: SettingWithCopyWarning: \n",
      "A value is trying to be set on a copy of a slice from a DataFrame.\n",
      "Try using .loc[row_indexer,col_indexer] = value instead\n",
      "\n",
      "See the caveats in the documentation: https://pandas.pydata.org/pandas-docs/stable/user_guide/indexing.html#returning-a-view-versus-a-copy\n",
      "  \n"
     ]
    }
   ],
   "source": [
    "\n",
    "Samsung['Timestamp_x'] = pd.to_datetime(Samsung['Timestamp_x'], infer_datetime_format=True)\n",
    "Samsung['weekday'] = Samsung['Timestamp_x'].dt.dayofweek\n"
   ]
  },
  {
   "cell_type": "markdown",
   "metadata": {},
   "source": [
    "#### 2-Features Selection"
   ]
  },
  {
   "cell_type": "code",
   "execution_count": 64,
   "metadata": {
    "execution": {
     "iopub.execute_input": "2021-07-25T04:04:16.921639Z",
     "iopub.status.busy": "2021-07-25T04:04:16.921293Z",
     "iopub.status.idle": "2021-07-25T04:04:16.927808Z",
     "shell.execute_reply": "2021-07-25T04:04:16.926641Z",
     "shell.execute_reply.started": "2021-07-25T04:04:16.921607Z"
    }
   },
   "outputs": [],
   "source": [
    "samsung = Samsung[['LocationLatitude','LocationLongitude','RadioNetworkGeneration_x',\n",
    "'RSRP','datehour_x','TrafficDirection' ,'weekday' , 'TrafficVolume']]"
   ]
  },
  {
   "cell_type": "markdown",
   "metadata": {},
   "source": [
    "#### 3-Looking for Correlations"
   ]
  },
  {
   "cell_type": "code",
   "execution_count": 65,
   "metadata": {
    "execution": {
     "iopub.execute_input": "2021-07-25T04:04:16.980127Z",
     "iopub.status.busy": "2021-07-25T04:04:16.979850Z",
     "iopub.status.idle": "2021-07-25T04:04:16.990429Z",
     "shell.execute_reply": "2021-07-25T04:04:16.989067Z",
     "shell.execute_reply.started": "2021-07-25T04:04:16.980102Z"
    }
   },
   "outputs": [
    {
     "data": {
      "text/plain": [
       "TrafficVolume        1.000000\n",
       "RSRP                 0.287315\n",
       "weekday              0.081855\n",
       "LocationLatitude    -0.063173\n",
       "datehour_x          -0.154047\n",
       "LocationLongitude   -0.221393\n",
       "Name: TrafficVolume, dtype: float64"
      ]
     },
     "execution_count": 65,
     "metadata": {},
     "output_type": "execute_result"
    }
   ],
   "source": [
    "samsung.corr()['TrafficVolume'].sort_values(ascending=False)"
   ]
  },
  {
   "cell_type": "code",
   "execution_count": 66,
   "metadata": {
    "execution": {
     "iopub.execute_input": "2021-07-25T04:04:16.997064Z",
     "iopub.status.busy": "2021-07-25T04:04:16.996804Z",
     "iopub.status.idle": "2021-07-25T04:04:17.476859Z",
     "shell.execute_reply": "2021-07-25T04:04:17.475769Z",
     "shell.execute_reply.started": "2021-07-25T04:04:16.997040Z"
    }
   },
   "outputs": [
    {
     "data": {
      "image/png": "[encoded data removed]",
      "text/plain": [
       "<Figure size 720x720 with 2 Axes>"
      ]
     },
     "metadata": {
      "needs_background": "light"
     },
     "output_type": "display_data"
    }
   ],
   "source": [
    "f, ax = plt.subplots(figsize=(10, 10))\n",
    "sns.heatmap(samsung.corr(), annot=True, cmap=\"RdBu\")\n",
    "plt.show()"
   ]
  },
  {
   "cell_type": "markdown",
   "metadata": {},
   "source": [
    "#### 4-Data Cleaning"
   ]
  },
  {
   "cell_type": "markdown",
   "metadata": {},
   "source": [
    "**Missing Value**"
   ]
  },
  {
   "cell_type": "code",
   "execution_count": 67,
   "metadata": {
    "execution": {
     "iopub.execute_input": "2021-07-25T04:04:17.478933Z",
     "iopub.status.busy": "2021-07-25T04:04:17.478539Z",
     "iopub.status.idle": "2021-07-25T04:04:17.488701Z",
     "shell.execute_reply": "2021-07-25T04:04:17.487523Z",
     "shell.execute_reply.started": "2021-07-25T04:04:17.478882Z"
    }
   },
   "outputs": [
    {
     "data": {
      "text/plain": [
       "LocationLatitude            0\n",
       "LocationLongitude           0\n",
       "RadioNetworkGeneration_x    0\n",
       "RSRP                        0\n",
       "datehour_x                  0\n",
       "TrafficDirection            0\n",
       "weekday                     0\n",
       "TrafficVolume               0\n",
       "dtype: int64"
      ]
     },
     "execution_count": 67,
     "metadata": {},
     "output_type": "execute_result"
    }
   ],
   "source": [
    "samsung.isnull().sum()"
   ]
  },
  {
   "cell_type": "code",
   "execution_count": 68,
   "metadata": {
    "execution": {
     "iopub.execute_input": "2021-07-25T04:04:17.491801Z",
     "iopub.status.busy": "2021-07-25T04:04:17.491320Z",
     "iopub.status.idle": "2021-07-25T04:04:17.510134Z",
     "shell.execute_reply": "2021-07-25T04:04:17.508917Z",
     "shell.execute_reply.started": "2021-07-25T04:04:17.491762Z"
    }
   },
   "outputs": [
    {
     "data": {
      "text/html": [
       "<div>\n",
       "<style scoped>\n",
       "    .dataframe tbody tr th:only-of-type {\n",
       "        vertical-align: middle;\n",
       "    }\n",
       "\n",
       "    .dataframe tbody tr th {\n",
       "        vertical-align: top;\n",
       "    }\n",
       "\n",
       "    .dataframe thead th {\n",
       "        text-align: right;\n",
       "    }\n",
       "</style>\n",
       "<table border=\"1\" class=\"dataframe\">\n",
       "  <thead>\n",
       "    <tr style=\"text-align: right;\">\n",
       "      <th></th>\n",
       "      <th>LocationLatitude</th>\n",
       "      <th>LocationLongitude</th>\n",
       "      <th>RadioNetworkGeneration_x</th>\n",
       "      <th>RSRP</th>\n",
       "      <th>datehour_x</th>\n",
       "      <th>TrafficDirection</th>\n",
       "      <th>weekday</th>\n",
       "      <th>TrafficVolume</th>\n",
       "    </tr>\n",
       "  </thead>\n",
       "  <tbody>\n",
       "    <tr>\n",
       "      <th>0</th>\n",
       "      <td>24.864525</td>\n",
       "      <td>46.587463</td>\n",
       "      <td>4G</td>\n",
       "      <td>-112</td>\n",
       "      <td>8</td>\n",
       "      <td>Uplink</td>\n",
       "      <td>5</td>\n",
       "      <td>0.044431</td>\n",
       "    </tr>\n",
       "    <tr>\n",
       "      <th>1</th>\n",
       "      <td>24.864525</td>\n",
       "      <td>46.587463</td>\n",
       "      <td>4G</td>\n",
       "      <td>-112</td>\n",
       "      <td>8</td>\n",
       "      <td>Downlink</td>\n",
       "      <td>5</td>\n",
       "      <td>0.082570</td>\n",
       "    </tr>\n",
       "    <tr>\n",
       "      <th>2</th>\n",
       "      <td>24.864525</td>\n",
       "      <td>46.587463</td>\n",
       "      <td>4G</td>\n",
       "      <td>-111</td>\n",
       "      <td>8</td>\n",
       "      <td>Uplink</td>\n",
       "      <td>5</td>\n",
       "      <td>0.044431</td>\n",
       "    </tr>\n",
       "    <tr>\n",
       "      <th>3</th>\n",
       "      <td>24.864525</td>\n",
       "      <td>46.587463</td>\n",
       "      <td>4G</td>\n",
       "      <td>-111</td>\n",
       "      <td>8</td>\n",
       "      <td>Downlink</td>\n",
       "      <td>5</td>\n",
       "      <td>0.082570</td>\n",
       "    </tr>\n",
       "    <tr>\n",
       "      <th>4</th>\n",
       "      <td>24.864525</td>\n",
       "      <td>46.587463</td>\n",
       "      <td>4G</td>\n",
       "      <td>-110</td>\n",
       "      <td>8</td>\n",
       "      <td>Uplink</td>\n",
       "      <td>5</td>\n",
       "      <td>0.044431</td>\n",
       "    </tr>\n",
       "  </tbody>\n",
       "</table>\n",
       "</div>"
      ],
      "text/plain": [
       "   LocationLatitude  LocationLongitude RadioNetworkGeneration_x  RSRP  \\\n",
       "0         24.864525          46.587463                       4G  -112   \n",
       "1         24.864525          46.587463                       4G  -112   \n",
       "2         24.864525          46.587463                       4G  -111   \n",
       "3         24.864525          46.587463                       4G  -111   \n",
       "4         24.864525          46.587463                       4G  -110   \n",
       "\n",
       "   datehour_x TrafficDirection  weekday  TrafficVolume  \n",
       "0           8           Uplink        5       0.044431  \n",
       "1           8         Downlink        5       0.082570  \n",
       "2           8           Uplink        5       0.044431  \n",
       "3           8         Downlink        5       0.082570  \n",
       "4           8           Uplink        5       0.044431  "
      ]
     },
     "execution_count": 68,
     "metadata": {},
     "output_type": "execute_result"
    }
   ],
   "source": [
    "samsung.head()"
   ]
  },
  {
   "cell_type": "markdown",
   "metadata": {},
   "source": [
    "#### 5- Encoding Categorical Data"
   ]
  },
  {
   "cell_type": "markdown",
   "metadata": {},
   "source": [
    "**Replace Values Method**<br>\n",
    "This will be useful when the categories count is high and you don't want to type out each mapping. You will store the category names in a list called labels and then zip it to a seqeunce of numbers and iterate over it.\n",
    "\n",
    "**Columns** : [RadioNetworkGeneration_x , TrafficDirection]"
   ]
  },
  {
   "cell_type": "code",
   "execution_count": 69,
   "metadata": {
    "execution": {
     "iopub.execute_input": "2021-07-25T04:04:17.513338Z",
     "iopub.status.busy": "2021-07-25T04:04:17.512823Z",
     "iopub.status.idle": "2021-07-25T04:04:17.531135Z",
     "shell.execute_reply": "2021-07-25T04:04:17.530006Z",
     "shell.execute_reply.started": "2021-07-25T04:04:17.513295Z"
    }
   },
   "outputs": [
    {
     "name": "stderr",
     "output_type": "stream",
     "text": [
      "/opt/conda/lib/python3.7/site-packages/pandas/core/indexing.py:1676: SettingWithCopyWarning: \n",
      "A value is trying to be set on a copy of a slice from a DataFrame.\n",
      "Try using .loc[row_indexer,col_indexer] = value instead\n",
      "\n",
      "See the caveats in the documentation: https://pandas.pydata.org/pandas-docs/stable/user_guide/indexing.html#returning-a-view-versus-a-copy\n",
      "  self._setitem_single_column(ilocs[0], value, pi)\n"
     ]
    }
   ],
   "source": [
    "cat_coulmns = ['RadioNetworkGeneration_x' , 'TrafficDirection']\n",
    "def Encoding(df,coulmn_name):\n",
    "    labels = df[coulmn_name].astype('category').cat.categories.tolist()\n",
    "    replace_map_comp  = {coulmn_name : {k: v for k,v in zip(labels,list(range(1,len(labels)+1)))}}\n",
    "\n",
    "    #return replace_map_comp\n",
    "\n",
    "    df.replace(replace_map_comp, inplace=True)\n",
    "    return df.head()\n",
    "    \n",
    "for column in cat_coulmns:\n",
    "    \n",
    "    Encoding(samsung,column)"
   ]
  },
  {
   "cell_type": "code",
   "execution_count": 70,
   "metadata": {
    "execution": {
     "iopub.execute_input": "2021-07-25T04:04:17.533404Z",
     "iopub.status.busy": "2021-07-25T04:04:17.532821Z",
     "iopub.status.idle": "2021-07-25T04:04:17.550350Z",
     "shell.execute_reply": "2021-07-25T04:04:17.549429Z",
     "shell.execute_reply.started": "2021-07-25T04:04:17.533362Z"
    }
   },
   "outputs": [
    {
     "data": {
      "text/html": [
       "<div>\n",
       "<style scoped>\n",
       "    .dataframe tbody tr th:only-of-type {\n",
       "        vertical-align: middle;\n",
       "    }\n",
       "\n",
       "    .dataframe tbody tr th {\n",
       "        vertical-align: top;\n",
       "    }\n",
       "\n",
       "    .dataframe thead th {\n",
       "        text-align: right;\n",
       "    }\n",
       "</style>\n",
       "<table border=\"1\" class=\"dataframe\">\n",
       "  <thead>\n",
       "    <tr style=\"text-align: right;\">\n",
       "      <th></th>\n",
       "      <th>LocationLatitude</th>\n",
       "      <th>LocationLongitude</th>\n",
       "      <th>RadioNetworkGeneration_x</th>\n",
       "      <th>RSRP</th>\n",
       "      <th>datehour_x</th>\n",
       "      <th>TrafficDirection</th>\n",
       "      <th>weekday</th>\n",
       "      <th>TrafficVolume</th>\n",
       "    </tr>\n",
       "  </thead>\n",
       "  <tbody>\n",
       "    <tr>\n",
       "      <th>0</th>\n",
       "      <td>24.864525</td>\n",
       "      <td>46.587463</td>\n",
       "      <td>2</td>\n",
       "      <td>-112</td>\n",
       "      <td>8</td>\n",
       "      <td>2</td>\n",
       "      <td>5</td>\n",
       "      <td>0.044431</td>\n",
       "    </tr>\n",
       "    <tr>\n",
       "      <th>1</th>\n",
       "      <td>24.864525</td>\n",
       "      <td>46.587463</td>\n",
       "      <td>2</td>\n",
       "      <td>-112</td>\n",
       "      <td>8</td>\n",
       "      <td>1</td>\n",
       "      <td>5</td>\n",
       "      <td>0.082570</td>\n",
       "    </tr>\n",
       "    <tr>\n",
       "      <th>2</th>\n",
       "      <td>24.864525</td>\n",
       "      <td>46.587463</td>\n",
       "      <td>2</td>\n",
       "      <td>-111</td>\n",
       "      <td>8</td>\n",
       "      <td>2</td>\n",
       "      <td>5</td>\n",
       "      <td>0.044431</td>\n",
       "    </tr>\n",
       "    <tr>\n",
       "      <th>3</th>\n",
       "      <td>24.864525</td>\n",
       "      <td>46.587463</td>\n",
       "      <td>2</td>\n",
       "      <td>-111</td>\n",
       "      <td>8</td>\n",
       "      <td>1</td>\n",
       "      <td>5</td>\n",
       "      <td>0.082570</td>\n",
       "    </tr>\n",
       "    <tr>\n",
       "      <th>4</th>\n",
       "      <td>24.864525</td>\n",
       "      <td>46.587463</td>\n",
       "      <td>2</td>\n",
       "      <td>-110</td>\n",
       "      <td>8</td>\n",
       "      <td>2</td>\n",
       "      <td>5</td>\n",
       "      <td>0.044431</td>\n",
       "    </tr>\n",
       "  </tbody>\n",
       "</table>\n",
       "</div>"
      ],
      "text/plain": [
       "   LocationLatitude  LocationLongitude  RadioNetworkGeneration_x  RSRP  \\\n",
       "0         24.864525          46.587463                         2  -112   \n",
       "1         24.864525          46.587463                         2  -112   \n",
       "2         24.864525          46.587463                         2  -111   \n",
       "3         24.864525          46.587463                         2  -111   \n",
       "4         24.864525          46.587463                         2  -110   \n",
       "\n",
       "   datehour_x  TrafficDirection  weekday  TrafficVolume  \n",
       "0           8                 2        5       0.044431  \n",
       "1           8                 1        5       0.082570  \n",
       "2           8                 2        5       0.044431  \n",
       "3           8                 1        5       0.082570  \n",
       "4           8                 2        5       0.044431  "
      ]
     },
     "execution_count": 70,
     "metadata": {},
     "output_type": "execute_result"
    }
   ],
   "source": [
    "samsung.head()"
   ]
  },
  {
   "cell_type": "markdown",
   "metadata": {},
   "source": [
    "#### 6- Separating target variable and its features"
   ]
  },
  {
   "cell_type": "code",
   "execution_count": 71,
   "metadata": {
    "execution": {
     "iopub.execute_input": "2021-07-25T04:04:17.552368Z",
     "iopub.status.busy": "2021-07-25T04:04:17.551783Z",
     "iopub.status.idle": "2021-07-25T04:04:17.558420Z",
     "shell.execute_reply": "2021-07-25T04:04:17.557220Z",
     "shell.execute_reply.started": "2021-07-25T04:04:17.552322Z"
    }
   },
   "outputs": [],
   "source": [
    "y = samsung['TrafficVolume']\n",
    "X = samsung.drop('TrafficVolume',axis=1)"
   ]
  },
  {
   "cell_type": "markdown",
   "metadata": {},
   "source": [
    "#### 7-Data Scaling"
   ]
  },
  {
   "cell_type": "code",
   "execution_count": 72,
   "metadata": {
    "execution": {
     "iopub.execute_input": "2021-07-25T04:04:17.560583Z",
     "iopub.status.busy": "2021-07-25T04:04:17.560103Z",
     "iopub.status.idle": "2021-07-25T04:04:17.573854Z",
     "shell.execute_reply": "2021-07-25T04:04:17.573015Z",
     "shell.execute_reply.started": "2021-07-25T04:04:17.560524Z"
    }
   },
   "outputs": [],
   "source": [
    "from sklearn.preprocessing import StandardScaler\n",
    "\n",
    "# define standard scaler\n",
    "scaler = StandardScaler()\n",
    "# transform data\n",
    "samsung_main = scaler.fit_transform(X)"
   ]
  },
  {
   "cell_type": "code",
   "execution_count": 73,
   "metadata": {
    "execution": {
     "iopub.execute_input": "2021-07-25T04:04:17.577260Z",
     "iopub.status.busy": "2021-07-25T04:04:17.576620Z",
     "iopub.status.idle": "2021-07-25T04:04:17.587845Z",
     "shell.execute_reply": "2021-07-25T04:04:17.586924Z",
     "shell.execute_reply.started": "2021-07-25T04:04:17.577219Z"
    }
   },
   "outputs": [
    {
     "name": "stdout",
     "output_type": "stream",
     "text": [
      "x train:  (189, 7)\n",
      "x test:  (48, 7)\n",
      "y train:  (189,)\n",
      "y test:  (48,)\n"
     ]
    }
   ],
   "source": [
    "from sklearn.model_selection import train_test_split\n",
    "X_train, X_test, y_train, y_test = train_test_split(samsung_main, y, test_size=0.2, random_state=None)\n",
    "print(\"x train: \",X_train.shape)\n",
    "print(\"x test: \",X_test.shape)\n",
    "print(\"y train: \",y_train.shape)\n",
    "print(\"y test: \",y_test.shape)"
   ]
  },
  {
   "cell_type": "markdown",
   "metadata": {
    "execution": {
     "iopub.execute_input": "2021-07-24T14:42:49.467604Z",
     "iopub.status.busy": "2021-07-24T14:42:49.467216Z",
     "iopub.status.idle": "2021-07-24T14:42:49.471183Z",
     "shell.execute_reply": "2021-07-24T14:42:49.470278Z",
     "shell.execute_reply.started": "2021-07-24T14:42:49.467572Z"
    }
   },
   "source": [
    "## Machine learning Part:"
   ]
  },
  {
   "cell_type": "code",
   "execution_count": 74,
   "metadata": {
    "execution": {
     "iopub.execute_input": "2021-07-25T04:04:17.589783Z",
     "iopub.status.busy": "2021-07-25T04:04:17.589270Z",
     "iopub.status.idle": "2021-07-25T04:04:17.661930Z",
     "shell.execute_reply": "2021-07-25T04:04:17.661125Z",
     "shell.execute_reply.started": "2021-07-25T04:04:17.589742Z"
    }
   },
   "outputs": [],
   "source": [
    "# import all what you need for machine learning\n",
    "import sklearn\n",
    "from sklearn.model_selection import cross_val_predict\n",
    "from sklearn.model_selection import cross_val_score\n",
    "from sklearn.model_selection import cross_validate\n",
    "from sklearn.model_selection import train_test_split\n",
    "from sklearn.linear_model import LinearRegression\n",
    "from sklearn.ensemble import RandomForestRegressor\n",
    "from sklearn.tree import DecisionTreeRegressor\n",
    "from sklearn.model_selection import RandomizedSearchCV\n",
    "from sklearn.model_selection import GridSearchCV\n",
    "from sklearn.linear_model import LinearRegression\n",
    "from sklearn.preprocessing import RobustScaler\n",
    "import xgboost as xgb\n",
    "from sklearn.metrics import mean_squared_error"
   ]
  },
  {
   "cell_type": "code",
   "execution_count": 75,
   "metadata": {
    "execution": {
     "iopub.execute_input": "2021-07-25T04:04:17.664935Z",
     "iopub.status.busy": "2021-07-25T04:04:17.664684Z",
     "iopub.status.idle": "2021-07-25T04:04:18.042110Z",
     "shell.execute_reply": "2021-07-25T04:04:18.041256Z",
     "shell.execute_reply.started": "2021-07-25T04:04:17.664911Z"
    }
   },
   "outputs": [
    {
     "name": "stdout",
     "output_type": "stream",
     "text": [
      "[04:04:17] WARNING: ../src/objective/regression_obj.cu:171: reg:linear is now deprecated in favor of reg:squarederror.\n"
     ]
    },
    {
     "data": {
      "text/plain": [
       "XGBRegressor(base_score=0.5, booster='gbtree', colsample_bylevel=1,\n",
       "             colsample_bynode=1, colsample_bytree=1, gamma=0, gpu_id=-1,\n",
       "             importance_type='gain', interaction_constraints='',\n",
       "             learning_rate=0.300000012, max_delta_step=0, max_depth=6,\n",
       "             min_child_weight=1, missing=nan, monotone_constraints='()',\n",
       "             n_estimators=100, n_jobs=2, num_parallel_tree=1,\n",
       "             objective='reg:linear', random_state=0, reg_alpha=0, reg_lambda=1,\n",
       "             scale_pos_weight=1, subsample=1, tree_method='exact',\n",
       "             validate_parameters=1, verbosity=None)"
      ]
     },
     "execution_count": 75,
     "metadata": {},
     "output_type": "execute_result"
    }
   ],
   "source": [
    "#fit decision tree\n",
    "tree = DecisionTreeRegressor()\n",
    "tree.fit(X_train, y_train)\n",
    "#fit random forest\n",
    "forest = RandomForestRegressor(n_jobs=-1)\n",
    "forest.fit(X_train, y_train)\n",
    "#fit XGBoost\n",
    "xg_reg = xgb.XGBRegressor(objective ='reg:linear')\n",
    "xg_reg.fit(X_train, y_train)"
   ]
  },
  {
   "cell_type": "markdown",
   "metadata": {},
   "source": [
    "... and then test them on train data, in terms of RMSE:"
   ]
  },
  {
   "cell_type": "code",
   "execution_count": 76,
   "metadata": {
    "execution": {
     "iopub.execute_input": "2021-07-25T04:04:18.044369Z",
     "iopub.status.busy": "2021-07-25T04:04:18.044001Z",
     "iopub.status.idle": "2021-07-25T04:04:18.161252Z",
     "shell.execute_reply": "2021-07-25T04:04:18.160324Z",
     "shell.execute_reply.started": "2021-07-25T04:04:18.044333Z"
    }
   },
   "outputs": [
    {
     "name": "stdout",
     "output_type": "stream",
     "text": [
      "RMSE of XGBoost = 0.34\n",
      "RMSE of random forest = 0.95\n",
      "RMSE of decision tree = 0.34\n"
     ]
    }
   ],
   "source": [
    "models= [('XGBoost', xg_reg), ('random forest', forest), ('decision tree', tree)]\n",
    "\n",
    "for i, model in models:    \n",
    "    predictions = model.predict(X_train)\n",
    "    MSE = mean_squared_error(y_train, predictions)\n",
    "    RMSE = np.sqrt(MSE)\n",
    "    msg = \"%s = %.2f\" % (i, round(RMSE, 2))\n",
    "    print('RMSE of', msg)"
   ]
  },
  {
   "cell_type": "markdown",
   "metadata": {},
   "source": [
    "We can use the Mean absolute percentage error (`MAPE`) to compute a measure of accuracy that is more immediate to understand."
   ]
  },
  {
   "cell_type": "code",
   "execution_count": 77,
   "metadata": {
    "execution": {
     "iopub.execute_input": "2021-07-25T04:04:18.163361Z",
     "iopub.status.busy": "2021-07-25T04:04:18.163036Z",
     "iopub.status.idle": "2021-07-25T04:04:18.288125Z",
     "shell.execute_reply": "2021-07-25T04:04:18.287102Z",
     "shell.execute_reply.started": "2021-07-25T04:04:18.163327Z"
    }
   },
   "outputs": [
    {
     "name": "stdout",
     "output_type": "stream",
     "text": [
      "Accuracy of XGBoost= 89.19 %\n",
      "Accuracy of random forest= 36.03 %\n",
      "Accuracy of decision tree= 89.73 %\n"
     ]
    }
   ],
   "source": [
    "for i, model in models:\n",
    "    # Make predictions on train data\n",
    "    predictions = model.predict(X_train)\n",
    "    # Performance metrics\n",
    "    errors = abs(predictions - y_train)\n",
    "    # Calculate mean absolute percentage error (MAPE)\n",
    "    mape = np.mean(100 * (errors / y_train))\n",
    "    # Calculate and display accuracy\n",
    "    accuracy = 100 - mape    \n",
    "    #print result\n",
    "    msg = \"%s= %.2f\"% (i, round(accuracy, 2))\n",
    "    print('Accuracy of', msg,'%')"
   ]
  },
  {
   "cell_type": "markdown",
   "metadata": {},
   "source": [
    "I will cross-validate the three models and compare them ."
   ]
  },
  {
   "cell_type": "code",
   "execution_count": 78,
   "metadata": {
    "execution": {
     "iopub.execute_input": "2021-07-25T04:04:18.289760Z",
     "iopub.status.busy": "2021-07-25T04:04:18.289360Z",
     "iopub.status.idle": "2021-07-25T04:04:34.352519Z",
     "shell.execute_reply": "2021-07-25T04:04:34.351458Z",
     "shell.execute_reply.started": "2021-07-25T04:04:18.289713Z"
    }
   },
   "outputs": [
    {
     "name": "stdout",
     "output_type": "stream",
     "text": [
      "[04:04:18] WARNING: ../src/objective/regression_obj.cu:171: reg:linear is now deprecated in favor of reg:squarederror.\n",
      "[04:04:18] WARNING: ../src/objective/regression_obj.cu:171: reg:linear is now deprecated in favor of reg:squarederror.\n",
      "[04:04:18] WARNING: ../src/objective/regression_obj.cu:171: reg:linear is now deprecated in favor of reg:squarederror.\n",
      "[04:04:18] WARNING: ../src/objective/regression_obj.cu:171: reg:linear is now deprecated in favor of reg:squarederror.\n",
      "[04:04:18] WARNING: ../src/objective/regression_obj.cu:171: reg:linear is now deprecated in favor of reg:squarederror.\n",
      "[04:04:18] WARNING: ../src/objective/regression_obj.cu:171: reg:linear is now deprecated in favor of reg:squarederror.\n",
      "[04:04:18] WARNING: ../src/objective/regression_obj.cu:171: reg:linear is now deprecated in favor of reg:squarederror.\n",
      "[04:04:18] WARNING: ../src/objective/regression_obj.cu:171: reg:linear is now deprecated in favor of reg:squarederror.\n",
      "[04:04:18] WARNING: ../src/objective/regression_obj.cu:171: reg:linear is now deprecated in favor of reg:squarederror.\n",
      "[04:04:18] WARNING: ../src/objective/regression_obj.cu:171: reg:linear is now deprecated in favor of reg:squarederror.\n",
      "[04:04:18] WARNING: ../src/objective/regression_obj.cu:171: reg:linear is now deprecated in favor of reg:squarederror.\n",
      "[04:04:18] WARNING: ../src/objective/regression_obj.cu:171: reg:linear is now deprecated in favor of reg:squarederror.\n",
      "[04:04:18] WARNING: ../src/objective/regression_obj.cu:171: reg:linear is now deprecated in favor of reg:squarederror.\n",
      "[04:04:18] WARNING: ../src/objective/regression_obj.cu:171: reg:linear is now deprecated in favor of reg:squarederror.\n",
      "[04:04:18] WARNING: ../src/objective/regression_obj.cu:171: reg:linear is now deprecated in favor of reg:squarederror.\n",
      "[04:04:19] WARNING: ../src/objective/regression_obj.cu:171: reg:linear is now deprecated in favor of reg:squarederror.\n",
      "[04:04:19] WARNING: ../src/objective/regression_obj.cu:171: reg:linear is now deprecated in favor of reg:squarederror.\n",
      "[04:04:19] WARNING: ../src/objective/regression_obj.cu:171: reg:linear is now deprecated in favor of reg:squarederror.\n",
      "[04:04:19] WARNING: ../src/objective/regression_obj.cu:171: reg:linear is now deprecated in favor of reg:squarederror.\n",
      "[04:04:19] WARNING: ../src/objective/regression_obj.cu:171: reg:linear is now deprecated in favor of reg:squarederror.\n",
      "[04:04:19] WARNING: ../src/objective/regression_obj.cu:171: reg:linear is now deprecated in favor of reg:squarederror.\n",
      "[04:04:19] WARNING: ../src/objective/regression_obj.cu:171: reg:linear is now deprecated in favor of reg:squarederror.\n",
      "[04:04:19] WARNING: ../src/objective/regression_obj.cu:171: reg:linear is now deprecated in favor of reg:squarederror.\n",
      "[04:04:19] WARNING: ../src/objective/regression_obj.cu:171: reg:linear is now deprecated in favor of reg:squarederror.\n",
      "[04:04:19] WARNING: ../src/objective/regression_obj.cu:171: reg:linear is now deprecated in favor of reg:squarederror.\n",
      "[04:04:19] WARNING: ../src/objective/regression_obj.cu:171: reg:linear is now deprecated in favor of reg:squarederror.\n",
      "[04:04:19] WARNING: ../src/objective/regression_obj.cu:171: reg:linear is now deprecated in favor of reg:squarederror.\n",
      "[04:04:19] WARNING: ../src/objective/regression_obj.cu:171: reg:linear is now deprecated in favor of reg:squarederror.\n",
      "[04:04:19] WARNING: ../src/objective/regression_obj.cu:171: reg:linear is now deprecated in favor of reg:squarederror.\n",
      "[04:04:19] WARNING: ../src/objective/regression_obj.cu:171: reg:linear is now deprecated in favor of reg:squarederror.\n"
     ]
    }
   ],
   "source": [
    "models= [('XGBoost', xg_reg), ('forest', forest), ('dt', tree)]\n",
    "scoring = ['neg_mean_squared_error', 'neg_mean_absolute_error', 'r2']\n",
    "\n",
    "#for each model I want to test three different scoring metrics. Therefore, results[0] will be lin_reg x MSE, \n",
    "# results[1] lin_reg x MSE and so on until results [8], where we stored dt x r2\n",
    "\n",
    "results= []\n",
    "metric= []\n",
    "for name, model in models:\n",
    "    for i in scoring:\n",
    "        scores = cross_validate(model, X_train, y_train, scoring=i, cv=10, return_train_score=True)\n",
    "        results.append(scores)"
   ]
  },
  {
   "cell_type": "code",
   "execution_count": 79,
   "metadata": {
    "execution": {
     "iopub.execute_input": "2021-07-25T04:04:34.354540Z",
     "iopub.status.busy": "2021-07-25T04:04:34.354144Z",
     "iopub.status.idle": "2021-07-25T04:04:34.364908Z",
     "shell.execute_reply": "2021-07-25T04:04:34.363860Z",
     "shell.execute_reply.started": "2021-07-25T04:04:34.354496Z"
    }
   },
   "outputs": [
    {
     "data": {
      "text/plain": [
       "{'fit_time': array([0.04345536, 0.04504967, 0.04322028, 0.0427413 , 0.04344082,\n",
       "        0.04547977, 0.04675674, 0.04187918, 0.04675865, 0.04383731]),\n",
       " 'score_time': array([0.00174308, 0.00180054, 0.00188732, 0.00187683, 0.00175405,\n",
       "        0.00172853, 0.00187016, 0.001724  , 0.00175071, 0.00172591]),\n",
       " 'test_score': array([ 0.43235025,  0.98930494,  0.36066341,  0.02611492,  0.80625117,\n",
       "        -0.60871308,  0.90714822, -3.20597229,  0.94565281,  0.94975996]),\n",
       " 'train_score': array([0.9946962 , 0.99508676, 0.99468808, 0.99532006, 0.99473152,\n",
       "        0.9949584 , 0.99525645, 0.9952562 , 0.99436453, 0.99415547])}"
      ]
     },
     "execution_count": 79,
     "metadata": {},
     "output_type": "execute_result"
    }
   ],
   "source": [
    "#this is an example of the stored results,R2 score for XGBoost\n",
    "results[2]"
   ]
  },
  {
   "cell_type": "markdown",
   "metadata": {
    "execution": {
     "iopub.execute_input": "2021-07-24T14:59:13.837829Z",
     "iopub.status.busy": "2021-07-24T14:59:13.837429Z",
     "iopub.status.idle": "2021-07-24T14:59:13.844776Z",
     "shell.execute_reply": "2021-07-24T14:59:13.843087Z",
     "shell.execute_reply.started": "2021-07-24T14:59:13.837796Z"
    }
   },
   "source": [
    "Now I want to compute for each combination the mean and std, so that to put into a dataframe all the metrics and easily compare them"
   ]
  },
  {
   "cell_type": "code",
   "execution_count": 80,
   "metadata": {
    "execution": {
     "iopub.execute_input": "2021-07-25T04:04:34.366773Z",
     "iopub.status.busy": "2021-07-25T04:04:34.366197Z",
     "iopub.status.idle": "2021-07-25T04:04:34.378176Z",
     "shell.execute_reply": "2021-07-25T04:04:34.377390Z",
     "shell.execute_reply.started": "2021-07-25T04:04:34.366736Z"
    }
   },
   "outputs": [],
   "source": [
    "#THIS IS FOR XGBoost\n",
    "#if you change signa and square the Mean Square Error you get the RMSE, which is the most common metric to accuracy\n",
    "XG_RMSE_mean = np.sqrt(-results[0]['test_score'].mean())\n",
    "XG_RMSE_std= results[0]['test_score'].std()\n",
    "# note that also here I changed the sign, as the result is originally a negative number for ease of computation\n",
    "XG_MAE_mean = -results[1]['test_score'].mean()\n",
    "XG_MAE_std= results[1]['test_score'].std()\n",
    "XG_r2_mean = results[2]['test_score'].mean()\n",
    "XG_r2_std = results[2]['test_score'].std()\n",
    "\n",
    "#THIS IS FOR RF\n",
    "RF_RMSE_mean = np.sqrt(-results[3]['test_score'].mean())\n",
    "RF_RMSE_std= results[3]['test_score'].std()\n",
    "RF_MAE_mean = -results[4]['test_score'].mean()\n",
    "RF_MAE_std= results[4]['test_score'].std()\n",
    "RF_r2_mean = results[5]['test_score'].mean()\n",
    "RF_r2_std = results[5]['test_score'].std()\n",
    "\n",
    "#THIS IS FOR DT\n",
    "DT_RMSE_mean = np.sqrt(-results[6]['test_score'].mean())\n",
    "DT_RMSE_std= results[6]['test_score'].std()\n",
    "DT_MAE_mean = -results[7]['test_score'].mean()\n",
    "DT_MAE_std= results[7]['test_score'].std()\n",
    "DT_r2_mean = results[8]['test_score'].mean()\n",
    "DT_r2_std = results[8]['test_score'].std()"
   ]
  },
  {
   "cell_type": "code",
   "execution_count": 81,
   "metadata": {
    "execution": {
     "iopub.execute_input": "2021-07-25T04:04:34.381275Z",
     "iopub.status.busy": "2021-07-25T04:04:34.380845Z",
     "iopub.status.idle": "2021-07-25T04:04:34.401487Z",
     "shell.execute_reply": "2021-07-25T04:04:34.400651Z",
     "shell.execute_reply.started": "2021-07-25T04:04:34.381239Z"
    }
   },
   "outputs": [
    {
     "data": {
      "text/html": [
       "<div>\n",
       "<style scoped>\n",
       "    .dataframe tbody tr th:only-of-type {\n",
       "        vertical-align: middle;\n",
       "    }\n",
       "\n",
       "    .dataframe tbody tr th {\n",
       "        vertical-align: top;\n",
       "    }\n",
       "\n",
       "    .dataframe thead th {\n",
       "        text-align: right;\n",
       "    }\n",
       "</style>\n",
       "<table border=\"1\" class=\"dataframe\">\n",
       "  <thead>\n",
       "    <tr style=\"text-align: right;\">\n",
       "      <th></th>\n",
       "      <th>Model</th>\n",
       "      <th>RMSE_mean</th>\n",
       "      <th>RMSE_std</th>\n",
       "      <th>MAE_mean</th>\n",
       "      <th>MAE_std</th>\n",
       "      <th>r2_mean</th>\n",
       "      <th>r2_std</th>\n",
       "    </tr>\n",
       "  </thead>\n",
       "  <tbody>\n",
       "    <tr>\n",
       "      <th>1</th>\n",
       "      <td>Random Forest</td>\n",
       "      <td>2.487341</td>\n",
       "      <td>5.520401</td>\n",
       "      <td>1.042954</td>\n",
       "      <td>0.510705</td>\n",
       "      <td>0.517780</td>\n",
       "      <td>0.541410</td>\n",
       "    </tr>\n",
       "    <tr>\n",
       "      <th>0</th>\n",
       "      <td>XGBoost</td>\n",
       "      <td>2.875852</td>\n",
       "      <td>6.695547</td>\n",
       "      <td>1.031221</td>\n",
       "      <td>0.484275</td>\n",
       "      <td>0.160256</td>\n",
       "      <td>1.223014</td>\n",
       "    </tr>\n",
       "    <tr>\n",
       "      <th>2</th>\n",
       "      <td>Decision Trees</td>\n",
       "      <td>3.786072</td>\n",
       "      <td>14.054655</td>\n",
       "      <td>1.216383</td>\n",
       "      <td>0.846102</td>\n",
       "      <td>0.039143</td>\n",
       "      <td>1.283859</td>\n",
       "    </tr>\n",
       "  </tbody>\n",
       "</table>\n",
       "</div>"
      ],
      "text/plain": [
       "            Model  RMSE_mean   RMSE_std  MAE_mean   MAE_std   r2_mean  \\\n",
       "1   Random Forest   2.487341   5.520401  1.042954  0.510705  0.517780   \n",
       "0         XGBoost   2.875852   6.695547  1.031221  0.484275  0.160256   \n",
       "2  Decision Trees   3.786072  14.054655  1.216383  0.846102  0.039143   \n",
       "\n",
       "     r2_std  \n",
       "1  0.541410  \n",
       "0  1.223014  \n",
       "2  1.283859  "
      ]
     },
     "execution_count": 81,
     "metadata": {},
     "output_type": "execute_result"
    }
   ],
   "source": [
    "modelDF = pd.DataFrame({\n",
    "    'Model'       : ['XGBoost', 'Random Forest', 'Decision Trees'],\n",
    "    'RMSE_mean'    : [XG_RMSE_mean, RF_RMSE_mean, DT_RMSE_mean],\n",
    "    'RMSE_std'    : [XG_RMSE_std, RF_RMSE_std, DT_RMSE_std],\n",
    "    'MAE_mean'   : [XG_MAE_mean, RF_MAE_mean, DT_MAE_mean],\n",
    "    'MAE_std'   : [XG_MAE_std, RF_MAE_std, DT_MAE_std],\n",
    "    'r2_mean'      : [XG_r2_mean, RF_r2_mean, DT_r2_mean],\n",
    "    'r2_std'      : [XG_r2_std, RF_r2_std, DT_r2_std],\n",
    "    }, columns = ['Model', 'RMSE_mean', 'RMSE_std', 'MAE_mean', 'MAE_std', 'r2_mean', 'r2_std'])\n",
    "\n",
    "modelDF.sort_values(by='r2_mean', ascending=False)"
   ]
  },
  {
   "cell_type": "code",
   "execution_count": 82,
   "metadata": {
    "execution": {
     "iopub.execute_input": "2021-07-25T04:04:34.403966Z",
     "iopub.status.busy": "2021-07-25T04:04:34.403416Z",
     "iopub.status.idle": "2021-07-25T04:04:34.685288Z",
     "shell.execute_reply": "2021-07-25T04:04:34.684531Z",
     "shell.execute_reply.started": "2021-07-25T04:04:34.403931Z"
    }
   },
   "outputs": [
    {
     "name": "stderr",
     "output_type": "stream",
     "text": [
      "/opt/conda/lib/python3.7/site-packages/seaborn/categorical.py:3714: UserWarning: The `factorplot` function has been renamed to `catplot`. The original name will be removed in a future release. Please update your code. Note that the default `kind` in `factorplot` (`'point'`) has changed `'strip'` in `catplot`.\n",
      "  warnings.warn(msg)\n"
     ]
    },
    {
     "data": {
      "text/plain": [
       "<seaborn.axisgrid.FacetGrid at 0x7fe98b2c7cd0>"
      ]
     },
     "execution_count": 82,
     "metadata": {},
     "output_type": "execute_result"
    },
    {
     "data": {
      "image/png": "[encoded data removed]",
      "text/plain": [
       "<Figure size 360x360 with 1 Axes>"
      ]
     },
     "metadata": {
      "needs_background": "light"
     },
     "output_type": "display_data"
    }
   ],
   "source": [
    "sns.factorplot(x= 'Model', y= 'RMSE_mean', data= modelDF, kind='bar', legend='True')"
   ]
  },
  {
   "cell_type": "markdown",
   "metadata": {},
   "source": [
    "## XGBoost Tuning Parameters"
   ]
  },
  {
   "cell_type": "markdown",
   "metadata": {},
   "source": [
    "**XGBoost's hyperparameters**<Br>\n",
    "At this point, we should be aware of the tuning parameters that XGBoost provides. Well, there are a plethora of tuning parameters for tree-based learners in XGBoost . But the most common ones that you should know are:\n",
    "\n",
    "`learning_rate`: step size shrinkage used to prevent overfitting. Range is [0,1]<Br>\n",
    "`max_depth`: determines how deeply each tree is allowed to grow during any boosting round.<Br>\n",
    "`subsample`:percentage of samples used per tree. Low value can lead to underfitting.<Br>\n",
    "`colsample_bytree`: percentage of features used per tree. High value can lead to overfitting.<Br>\n",
    "`n_estimators`: number of trees you want to build.<Br>\n",
    "`objective`: determines the loss function to be used like reg:linear for regression problems, reg:logistic for classification problems with only decision, binary:logistic for classification problems with probability.<Br>\n",
    "XGBoost also supports regularization parameters to penalize models as they become more complex and reduce them to simple (parsimonious) models.<Br>\n",
    "`gamma`:controls whether a given node will split based on the expected reduction in loss after the split. A higher value leads to fewer splits. Supported only for tree-based learners.<Br>\n",
    "`alpha`: L1 regularization on leaf weights. A large value leads to more regularization.<Br>\n",
    "`lambda`: L2 regularization on leaf weights and is smoother than L1 regularization.<Br>\n",
    "It's also worth mentioning that though you are using trees as your base learners, you can also use XGBoost's relatively less popular linear base learners and one other tree learner known as dart. All you have to do is set the booster parameter to either gbtree(default), gblinear or dart."
   ]
  },
  {
   "cell_type": "markdown",
   "metadata": {},
   "source": [
    "Here I have relied on changing the hyperparameters manually in a trial and error manner , the most importance is `max_depth` and `n_estimators`"
   ]
  },
  {
   "cell_type": "code",
   "execution_count": 83,
   "metadata": {
    "execution": {
     "iopub.execute_input": "2021-07-25T04:04:34.686863Z",
     "iopub.status.busy": "2021-07-25T04:04:34.686539Z",
     "iopub.status.idle": "2021-07-25T04:04:34.712324Z",
     "shell.execute_reply": "2021-07-25T04:04:34.711557Z",
     "shell.execute_reply.started": "2021-07-25T04:04:34.686829Z"
    }
   },
   "outputs": [
    {
     "name": "stdout",
     "output_type": "stream",
     "text": [
      "[04:04:34] WARNING: ../src/objective/regression_obj.cu:171: reg:linear is now deprecated in favor of reg:squarederror.\n"
     ]
    }
   ],
   "source": [
    "import xgboost as xgb\n",
    "\n",
    "xg_reg = xgb.XGBRegressor(objective ='reg:linear', colsample_bytree = 0.4, learning_rate = 0.3,\n",
    "                max_depth = 10, alpha = 10, n_estimators = 30)\n",
    "xg_reg.fit(X_train,y_train)\n",
    "\n",
    "preds = xg_reg.predict(X_test)"
   ]
  },
  {
   "cell_type": "markdown",
   "metadata": {},
   "source": [
    "Compute the rmse by invoking the mean_sqaured_error function from sklearn's metrics module."
   ]
  },
  {
   "cell_type": "code",
   "execution_count": 84,
   "metadata": {
    "execution": {
     "iopub.execute_input": "2021-07-25T04:04:34.715316Z",
     "iopub.status.busy": "2021-07-25T04:04:34.715067Z",
     "iopub.status.idle": "2021-07-25T04:04:34.724514Z",
     "shell.execute_reply": "2021-07-25T04:04:34.723535Z",
     "shell.execute_reply.started": "2021-07-25T04:04:34.715293Z"
    }
   },
   "outputs": [
    {
     "name": "stdout",
     "output_type": "stream",
     "text": [
      "RMSE: 2.173284\n"
     ]
    }
   ],
   "source": [
    "rmse = np.sqrt(mean_squared_error(y_test, preds))\n",
    "print(\"RMSE: %f\" % (rmse))"
   ]
  },
  {
   "cell_type": "code",
   "execution_count": 85,
   "metadata": {
    "execution": {
     "iopub.execute_input": "2021-07-25T04:04:34.728307Z",
     "iopub.status.busy": "2021-07-25T04:04:34.728015Z",
     "iopub.status.idle": "2021-07-25T04:04:34.740248Z",
     "shell.execute_reply": "2021-07-25T04:04:34.739452Z",
     "shell.execute_reply.started": "2021-07-25T04:04:34.728278Z"
    }
   },
   "outputs": [
    {
     "data": {
      "text/plain": [
       "0.8952645821825225"
      ]
     },
     "execution_count": 85,
     "metadata": {},
     "output_type": "execute_result"
    }
   ],
   "source": [
    "from sklearn.metrics import r2_score\n",
    "preds_t = xg_reg.predict(X_train)\n",
    "r2_score(y_train,preds_t)"
   ]
  },
  {
   "cell_type": "code",
   "execution_count": 86,
   "metadata": {
    "execution": {
     "iopub.execute_input": "2021-07-25T04:04:34.743736Z",
     "iopub.status.busy": "2021-07-25T04:04:34.743451Z",
     "iopub.status.idle": "2021-07-25T04:04:34.753729Z",
     "shell.execute_reply": "2021-07-25T04:04:34.752801Z",
     "shell.execute_reply.started": "2021-07-25T04:04:34.743710Z"
    }
   },
   "outputs": [
    {
     "data": {
      "text/plain": [
       "0.8377308812142521"
      ]
     },
     "execution_count": 86,
     "metadata": {},
     "output_type": "execute_result"
    }
   ],
   "source": [
    "r2_score(y_test,preds)"
   ]
  },
  {
   "cell_type": "markdown",
   "metadata": {},
   "source": [
    "# Linear Regression"
   ]
  },
  {
   "cell_type": "code",
   "execution_count": 87,
   "metadata": {
    "execution": {
     "iopub.execute_input": "2021-07-25T04:04:34.757084Z",
     "iopub.status.busy": "2021-07-25T04:04:34.756838Z",
     "iopub.status.idle": "2021-07-25T04:04:34.912959Z",
     "shell.execute_reply": "2021-07-25T04:04:34.912136Z",
     "shell.execute_reply.started": "2021-07-25T04:04:34.757061Z"
    }
   },
   "outputs": [
    {
     "data": {
      "text/plain": [
       "LinearRegression(normalize=True)"
      ]
     },
     "execution_count": 87,
     "metadata": {},
     "output_type": "execute_result"
    }
   ],
   "source": [
    "from sklearn.linear_model import LinearRegression\n",
    "\n",
    "lin_reg = LinearRegression(normalize=True)\n",
    "lin_reg.fit(X_train,y_train)"
   ]
  },
  {
   "cell_type": "code",
   "execution_count": 88,
   "metadata": {
    "execution": {
     "iopub.execute_input": "2021-07-25T04:04:34.914450Z",
     "iopub.status.busy": "2021-07-25T04:04:34.914091Z",
     "iopub.status.idle": "2021-07-25T04:04:34.920953Z",
     "shell.execute_reply": "2021-07-25T04:04:34.920107Z",
     "shell.execute_reply.started": "2021-07-25T04:04:34.914416Z"
    }
   },
   "outputs": [],
   "source": [
    "pred = lin_reg.predict(X_test)"
   ]
  },
  {
   "cell_type": "code",
   "execution_count": 89,
   "metadata": {
    "execution": {
     "iopub.execute_input": "2021-07-25T04:04:34.924210Z",
     "iopub.status.busy": "2021-07-25T04:04:34.923913Z",
     "iopub.status.idle": "2021-07-25T04:04:34.933488Z",
     "shell.execute_reply": "2021-07-25T04:04:34.932535Z",
     "shell.execute_reply.started": "2021-07-25T04:04:34.924186Z"
    }
   },
   "outputs": [],
   "source": [
    "from sklearn import metrics\n",
    "from sklearn.model_selection import cross_val_score\n",
    "\n",
    "def cross_val(model):\n",
    "    pred = cross_val_score(model, X, y, cv=10)\n",
    "    return pred.mean()\n",
    "\n",
    "def print_evaluate(true, predicted):  \n",
    "    mae = metrics.mean_absolute_error(true, predicted)\n",
    "    mse = metrics.mean_squared_error(true, predicted)\n",
    "    rmse = np.sqrt(metrics.mean_squared_error(true, predicted))\n",
    "    r2_square = metrics.r2_score(true, predicted)\n",
    "    print('MAE:', mae)\n",
    "    print('MSE:', mse)\n",
    "    print('RMSE:', rmse)\n",
    "    print('R2 Square', r2_square)\n",
    "    print('__________________________________')\n",
    "    \n",
    "def evaluate(true, predicted):\n",
    "    mae = metrics.mean_absolute_error(true, predicted)\n",
    "    mse = metrics.mean_squared_error(true, predicted)\n",
    "    rmse = np.sqrt(metrics.mean_squared_error(true, predicted))\n",
    "    r2_square = metrics.r2_score(true, predicted)\n",
    "    return mae, mse, rmse, r2_square"
   ]
  },
  {
   "cell_type": "code",
   "execution_count": 90,
   "metadata": {
    "execution": {
     "iopub.execute_input": "2021-07-25T04:04:34.936599Z",
     "iopub.status.busy": "2021-07-25T04:04:34.936318Z",
     "iopub.status.idle": "2021-07-25T04:04:34.955808Z",
     "shell.execute_reply": "2021-07-25T04:04:34.954912Z",
     "shell.execute_reply.started": "2021-07-25T04:04:34.936576Z"
    }
   },
   "outputs": [
    {
     "name": "stdout",
     "output_type": "stream",
     "text": [
      "Test set evaluation:\n",
      "_____________________________________\n",
      "MAE: 2.724764970089872\n",
      "MSE: 22.098060852078643\n",
      "RMSE: 4.700857459238542\n",
      "R2 Square 0.24079853621616465\n",
      "__________________________________\n",
      "Train set evaluation:\n",
      "_____________________________________\n",
      "MAE: 2.425369553240735\n",
      "MSE: 15.915897734616221\n",
      "RMSE: 3.989473365572983\n",
      "R2 Square 0.2774107541434686\n",
      "__________________________________\n"
     ]
    }
   ],
   "source": [
    "test_pred = lin_reg.predict(X_test)\n",
    "train_pred = lin_reg.predict(X_train)\n",
    "\n",
    "print('Test set evaluation:\\n_____________________________________')\n",
    "print_evaluate(y_test, test_pred)\n",
    "print('Train set evaluation:\\n_____________________________________')\n",
    "print_evaluate(y_train, train_pred)"
   ]
  },
  {
   "cell_type": "code",
   "execution_count": 91,
   "metadata": {
    "execution": {
     "iopub.execute_input": "2021-07-25T04:04:34.957449Z",
     "iopub.status.busy": "2021-07-25T04:04:34.957075Z",
     "iopub.status.idle": "2021-07-25T04:04:35.034109Z",
     "shell.execute_reply": "2021-07-25T04:04:35.033385Z",
     "shell.execute_reply.started": "2021-07-25T04:04:34.957413Z"
    }
   },
   "outputs": [
    {
     "data": {
      "text/html": [
       "<div>\n",
       "<style scoped>\n",
       "    .dataframe tbody tr th:only-of-type {\n",
       "        vertical-align: middle;\n",
       "    }\n",
       "\n",
       "    .dataframe tbody tr th {\n",
       "        vertical-align: top;\n",
       "    }\n",
       "\n",
       "    .dataframe thead th {\n",
       "        text-align: right;\n",
       "    }\n",
       "</style>\n",
       "<table border=\"1\" class=\"dataframe\">\n",
       "  <thead>\n",
       "    <tr style=\"text-align: right;\">\n",
       "      <th></th>\n",
       "      <th>Model</th>\n",
       "      <th>MAE</th>\n",
       "      <th>MSE</th>\n",
       "      <th>RMSE</th>\n",
       "      <th>R2 Square</th>\n",
       "      <th>Cross Validation</th>\n",
       "    </tr>\n",
       "  </thead>\n",
       "  <tbody>\n",
       "    <tr>\n",
       "      <th>0</th>\n",
       "      <td>Linear Regression</td>\n",
       "      <td>2.724765</td>\n",
       "      <td>22.098061</td>\n",
       "      <td>4.700857</td>\n",
       "      <td>0.240799</td>\n",
       "      <td>-18.869452</td>\n",
       "    </tr>\n",
       "  </tbody>\n",
       "</table>\n",
       "</div>"
      ],
      "text/plain": [
       "               Model       MAE        MSE      RMSE  R2 Square  \\\n",
       "0  Linear Regression  2.724765  22.098061  4.700857   0.240799   \n",
       "\n",
       "   Cross Validation  \n",
       "0        -18.869452  "
      ]
     },
     "execution_count": 91,
     "metadata": {},
     "output_type": "execute_result"
    }
   ],
   "source": [
    "results_df = pd.DataFrame(data=[[\"Linear Regression\", *evaluate(y_test, test_pred) , cross_val(LinearRegression())]], \n",
    "                          columns=['Model', 'MAE', 'MSE', 'RMSE', 'R2 Square', \"Cross Validation\"])\n",
    "results_df"
   ]
  },
  {
   "cell_type": "code",
   "execution_count": null,
   "metadata": {},
   "outputs": [],
   "source": []
  }
 ],
 "metadata": {
  "kernelspec": {
   "display_name": "Python 3",
   "language": "python",
   "name": "python3"
  },
  "language_info": {
   "codemirror_mode": {
    "name": "ipython",
    "version": 3
   },
   "file_extension": ".py",
   "mimetype": "text/x-python",
   "name": "python",
   "nbconvert_exporter": "python",
   "pygments_lexer": "ipython3",
   "version": "3.7.6"
  }
 },
 "nbformat": 4,
 "nbformat_minor": 4
}
